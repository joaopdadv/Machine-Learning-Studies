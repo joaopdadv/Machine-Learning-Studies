{
 "cells": [
  {
   "cell_type": "code",
   "execution_count": 2,
   "metadata": {},
   "outputs": [],
   "source": [
    "import numpy as np"
   ]
  },
  {
   "cell_type": "code",
   "execution_count": 3,
   "metadata": {},
   "outputs": [],
   "source": [
    "from typing import Any\n",
    "\n",
    "\n",
    "class MSELoss():\n",
    "\n",
    "    def forward(self, pred, true):\n",
    "        return ((pred - true) ** 2).mean()\n",
    "    \n",
    "    def __call__(self, pred, true):\n",
    "        self.pred = pred\n",
    "        self.true = true\n",
    "        return self.forward(pred, true)\n",
    "    \n",
    "    def backward(self):\n",
    "        din = self.pred.shape[1]\n",
    "        jacobian = 2 * (self.pred - self.true)\n",
    "\n",
    "\n",
    "\n",
    "        return jacobian"
   ]
  },
  {
   "cell_type": "code",
   "execution_count": 4,
   "metadata": {},
   "outputs": [
    {
     "data": {
      "text/plain": [
       "0.20499999999999996"
      ]
     },
     "execution_count": 4,
     "metadata": {},
     "output_type": "execute_result"
    }
   ],
   "source": [
    "loss_fct = MSELoss()\n",
    "loss_fct(np.array([[1, 2]]), np.array([[1.4, 2.5]]))"
   ]
  },
  {
   "cell_type": "code",
   "execution_count": null,
   "metadata": {},
   "outputs": [],
   "source": [
    "loss_fct.backward()"
   ]
  }
 ],
 "metadata": {
  "kernelspec": {
   "display_name": ".venv",
   "language": "python",
   "name": "python3"
  },
  "language_info": {
   "codemirror_mode": {
    "name": "ipython",
    "version": 3
   },
   "file_extension": ".py",
   "mimetype": "text/x-python",
   "name": "python",
   "nbconvert_exporter": "python",
   "pygments_lexer": "ipython3",
   "version": "3.12.3"
  }
 },
 "nbformat": 4,
 "nbformat_minor": 2
}
