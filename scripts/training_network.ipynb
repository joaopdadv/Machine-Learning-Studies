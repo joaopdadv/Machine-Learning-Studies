{
 "cells": [
  {
   "cell_type": "code",
   "execution_count": 26,
   "metadata": {},
   "outputs": [],
   "source": [
    "import numpy as np\n",
    "import sys\n",
    "import os\n",
    "\n",
    "module_path = os.path.join(os.getcwd(), '../modules')\n",
    "sys.path.append(module_path)\n",
    "from mlp import MLP, CompoundNN\n",
    "from activation_functions import ReLU\n",
    "from losses import MSELoss\n",
    "\n",
    "import matplotlib.pyplot as plt"
   ]
  },
  {
   "cell_type": "code",
   "execution_count": 42,
   "metadata": {},
   "outputs": [],
   "source": [
    "mlp1 = MLP(6, 5)\n",
    "relu1 = ReLU()\n",
    "mlp2 = MLP(5, 4)\n",
    "\n",
    "nn = CompoundNN([mlp1, relu1, mlp2])\n",
    "\n",
    "target = np.array([[1.,2.,3.,4.]]) # isso é o que queremos que a rede aprenda\n",
    "x = np.random.rand(1, 6)\n",
    "NB_EPOCHS = 100\n",
    "\n",
    "training_loss = []\n",
    "initial_pred = nn.forward(x)\n",
    "\n",
    "for i in range(NB_EPOCHS):\n",
    "\n",
    "    loss_fct = MSELoss()\n",
    "\n",
    "    # Forward pass\n",
    "    prediciton = nn.forward(x)\n",
    "    loss_value = loss_fct.forward(prediciton, target) # compute loss\n",
    "    training_loss.append(loss_value)\n",
    "    gradout = loss_fct.backward() # compute gradient\n",
    "    nn.backward(gradout)\n",
    "\n",
    "    # update weights\n",
    "    mlp1.W = mlp1.W - mlp1.deltaW\n",
    "    mlp1.b = mlp1.b - mlp1.deltaB\n",
    "\n",
    "    mlp2.W = mlp2.W - mlp2.deltaW\n",
    "    mlp2.b = mlp2.b - mlp2.deltaB"
   ]
  },
  {
   "cell_type": "code",
   "execution_count": 45,
   "metadata": {},
   "outputs": [
    {
     "data": {
      "text/plain": [
       "[<matplotlib.lines.Line2D at 0x10f037770>]"
      ]
     },
     "execution_count": 45,
     "metadata": {},
     "output_type": "execute_result"
    },
    {
     "data": {
      "image/png": "[encoded data removed]",
      "text/plain": [
       "<Figure size 640x480 with 1 Axes>"
      ]
     },
     "metadata": {},
     "output_type": "display_data"
    }
   ],
   "source": [
    "plt.plot(training_loss)"
   ]
  },
  {
   "cell_type": "code",
   "execution_count": 44,
   "metadata": {},
   "outputs": [
    {
     "name": "stdout",
     "output_type": "stream",
     "text": [
      "[[-1.545077    1.05671863  0.66960192  1.68548902]]\n",
      "[[1. 2. 3. 4.]]\n",
      "[[1. 2. 3. 4.]]\n"
     ]
    }
   ],
   "source": [
    "print(initial_pred)\n",
    "print(prediciton)\n",
    "print(target)"
   ]
  },
  {
   "cell_type": "code",
   "execution_count": 31,
   "metadata": {},
   "outputs": [
    {
     "data": {
      "text/plain": [
       "0.0"
      ]
     },
     "execution_count": 31,
     "metadata": {},
     "output_type": "execute_result"
    }
   ],
   "source": [
    "training_loss[-1]#ultimo valor da lista"
   ]
  },
  {
   "cell_type": "code",
   "execution_count": 46,
   "metadata": {},
   "outputs": [
    {
     "name": "stdout",
     "output_type": "stream",
     "text": [
      "[[ -1.08048188  -2.09081367  -0.67577338  -1.38393956   0.6996484\n",
      "   -1.40400349]\n",
      " [ -1.11176812  -9.09780983   0.26184654  -3.21822382  -2.96334668\n",
      "   -4.87886296]\n",
      " [ -0.0914679   -0.26617886   1.78057631  -0.82397985  -2.18261085\n",
      "   -1.29379481]\n",
      " [ -2.65285209 -17.68453552  -1.74045245  -7.00028853  -4.50222651\n",
      "   -8.27650012]\n",
      " [  0.90413605   1.09132854  -0.37251527  -1.70535519   3.43168885\n",
      "   -0.40978648]]\n"
     ]
    }
   ],
   "source": [
    "print(mlp1.W)"
   ]
  }
 ],
 "metadata": {
  "kernelspec": {
   "display_name": ".venv",
   "language": "python",
   "name": "python3"
  },
  "language_info": {
   "codemirror_mode": {
    "name": "ipython",
    "version": 3
   },
   "file_extension": ".py",
   "mimetype": "text/x-python",
   "name": "python",
   "nbconvert_exporter": "python",
   "pygments_lexer": "ipython3",
   "version": "3.12.3"
  }
 },
 "nbformat": 4,
 "nbformat_minor": 2
}
