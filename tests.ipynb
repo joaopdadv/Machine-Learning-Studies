{
 "cells": [
  {
   "cell_type": "code",
   "execution_count": 2,
   "metadata": {},
   "outputs": [],
   "source": [
    "import numpy as np\n",
    "import torch # neural network library to test our implementation\n",
    "\n",
    "import sys\n",
    "import os\n",
    "\n",
    "module_path = os.path.join(os.getcwd(), 'modules')\n",
    "sys.path.append(module_path)\n",
    "from mlp import MLP, CompoundNN\n",
    "from activation_functions import ReLU"
   ]
  },
  {
   "cell_type": "markdown",
   "metadata": {},
   "source": [
    "#### Função para testar método forward em MLP"
   ]
  },
  {
   "cell_type": "code",
   "execution_count": 3,
   "metadata": {},
   "outputs": [],
   "source": [
    "def test_forward_function():\n",
    "    mlp = MLP(6, 5)\n",
    "    x = np.random.randn(1, 6)\n",
    "    out = mlp.forward(x)\n",
    "\n",
    "    mlp_torch = torch.nn.Linear(6, 5) # Linear pois nossa MLP ainda não possui função de ativação\n",
    "    mlp_torch.weight.data = torch.from_numpy(mlp.W).type(torch.float) # Copia pesos\n",
    "    mlp_torch.bias.data = torch.from_numpy(mlp.b).type(torch.float) # Copia bias\n",
    "    out_torch = mlp(torch.from_numpy(x).type(torch.float)) # Calcula saída e transforma para numpy\n",
    "    out_torch = out_torch.data.numpy()\n",
    "\n",
    "    error = ((out - out_torch) ** 2).mean() # Calcula erro médio quadrático\n",
    "    if error < 1e-8:\n",
    "        return 0\n",
    "    else:\n",
    "        return -1"
   ]
  },
  {
   "cell_type": "markdown",
   "metadata": {},
   "source": [
    "#### Função para testar Compound Neural Network (Sequencia de MLP)"
   ]
  },
  {
   "cell_type": "code",
   "execution_count": 4,
   "metadata": {},
   "outputs": [],
   "source": [
    "def test_compound_nn():\n",
    "    mlp1 = MLP(6,5)\n",
    "    relu1 = ReLU()\n",
    "    mlp2 = MLP(5,4)\n",
    "    relu2 = ReLU()\n",
    "\n",
    "    nn = CompoundNN([mlp1, relu1, mlp2, relu2])\n",
    "\n",
    "    x = np.random.randn(1, 6)\n",
    "\n",
    "    out1 = relu2(mlp2(relu1(mlp1(x))))\n",
    "    out2 = nn(x)\n",
    "\n",
    "    error = ((out1 - out2)**2).mean()\n",
    "\n",
    "    if error < 1e-8:\n",
    "        return 0\n",
    "    else:\n",
    "        return -1"
   ]
  },
  {
   "cell_type": "markdown",
   "metadata": {},
   "source": [
    "#### Função para testar save and load"
   ]
  },
  {
   "cell_type": "code",
   "execution_count": 5,
   "metadata": {},
   "outputs": [],
   "source": [
    "def test_save_and_load():\n",
    "    mlp1 = MLP(6,5)\n",
    "    relu1 = ReLU()\n",
    "    mlp2 = MLP(5,4)\n",
    "    relu2 = ReLU()\n",
    "    nn1 = CompoundNN([mlp1, relu1, mlp2, relu2])\n",
    "\n",
    "    mlp1 = MLP(6,5)\n",
    "    relu1 = ReLU()\n",
    "    mlp2 = MLP(5,4)\n",
    "    relu2 = ReLU()\n",
    "    nn2 = CompoundNN([mlp1, relu1, mlp2, relu2])\n",
    "\n",
    "    x = np.random.randn(1, 6)\n",
    "\n",
    "    nn1.save('nn1')\n",
    "    nn2.load('nn1')\n",
    "\n",
    "    out1 = nn1(x)\n",
    "    out2 = nn2(x)\n",
    "\n",
    "    error = ((out1 - out2)**2).mean()\n",
    "\n",
    "    if error < 1e-8:\n",
    "        return 0\n",
    "    else:\n",
    "        return -1"
   ]
  },
  {
   "cell_type": "markdown",
   "metadata": {},
   "source": [
    "#### Assertions"
   ]
  },
  {
   "cell_type": "code",
   "execution_count": 6,
   "metadata": {},
   "outputs": [],
   "source": [
    "assert test_compound_nn() == 0\n",
    "assert test_forward_function() == 0\n",
    "assert test_save_and_load() == 0"
   ]
  }
 ],
 "metadata": {
  "kernelspec": {
   "display_name": ".venv",
   "language": "python",
   "name": "python3"
  },
  "language_info": {
   "codemirror_mode": {
    "name": "ipython",
    "version": 3
   },
   "file_extension": ".py",
   "mimetype": "text/x-python",
   "name": "python",
   "nbconvert_exporter": "python",
   "pygments_lexer": "ipython3",
   "version": "3.12.3"
  }
 },
 "nbformat": 4,
 "nbformat_minor": 2
}
