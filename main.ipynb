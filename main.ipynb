{
 "cells": [
  {
   "cell_type": "code",
   "execution_count": 1,
   "metadata": {},
   "outputs": [],
   "source": [
    "import numpy as np\n",
    "\n",
    "import sys\n",
    "import os\n",
    "\n",
    "module_path = os.path.join(os.getcwd(), 'modules')\n",
    "sys.path.append(module_path)\n",
    "from mlp import MLP, CompoundNN\n",
    "from activation_functions import ReLU"
   ]
  },
  {
   "cell_type": "code",
   "execution_count": 2,
   "metadata": {},
   "outputs": [],
   "source": [
    "mlp1 = MLP(6,5)\n",
    "relu1 = ReLU()\n",
    "mlp2 = MLP(5,4)\n",
    "relu2 = ReLU()"
   ]
  },
  {
   "cell_type": "code",
   "execution_count": 3,
   "metadata": {},
   "outputs": [],
   "source": [
    "nn = CompoundNN([mlp1, relu1, mlp2, relu2])"
   ]
  },
  {
   "cell_type": "code",
   "execution_count": 4,
   "metadata": {},
   "outputs": [],
   "source": [
    "x = np.random.randn(1, 6) # x são os valores de entrada"
   ]
  },
  {
   "cell_type": "code",
   "execution_count": 5,
   "metadata": {},
   "outputs": [
    {
     "name": "stdout",
     "output_type": "stream",
     "text": [
      "[[0. 0. 0. 0.]]\n"
     ]
    }
   ],
   "source": [
    "print(relu2(mlp2(relu1(mlp1(x)))))"
   ]
  },
  {
   "cell_type": "code",
   "execution_count": 6,
   "metadata": {},
   "outputs": [
    {
     "name": "stdout",
     "output_type": "stream",
     "text": [
      "[[0. 0. 0. 0.]]\n"
     ]
    }
   ],
   "source": [
    "print(nn(x))"
   ]
  },
  {
   "cell_type": "markdown",
   "metadata": {},
   "source": [
    "#### Teste de load and save na MLP"
   ]
  },
  {
   "cell_type": "code",
   "execution_count": 9,
   "metadata": {},
   "outputs": [],
   "source": [
    "mlp1 = MLP(6,5)\n",
    "mlp2 = MLP(6,5)\n",
    "x = np.random.randn(1, 6)"
   ]
  },
  {
   "cell_type": "code",
   "execution_count": 10,
   "metadata": {},
   "outputs": [
    {
     "name": "stdout",
     "output_type": "stream",
     "text": [
      "[[-0.95887322  1.87496013 -4.07064903 -2.17545601  1.22781164]]\n",
      "[[ 0.72077279 -2.16495184  2.88670121  0.25187097 -3.18573409]]\n"
     ]
    }
   ],
   "source": [
    "print(mlp1(x))\n",
    "print(mlp2(x))"
   ]
  },
  {
   "cell_type": "code",
   "execution_count": 11,
   "metadata": {},
   "outputs": [],
   "source": [
    "mlp1.save('mlp_test')\n",
    "mlp2.load('mlp_test')"
   ]
  },
  {
   "cell_type": "code",
   "execution_count": 12,
   "metadata": {},
   "outputs": [
    {
     "name": "stdout",
     "output_type": "stream",
     "text": [
      "[[-0.95887322  1.87496013 -4.07064903 -2.17545601  1.22781164]]\n",
      "[[-0.95887322  1.87496013 -4.07064903 -2.17545601  1.22781164]]\n"
     ]
    }
   ],
   "source": [
    "print(mlp1(x))\n",
    "print(mlp2(x))"
   ]
  },
  {
   "cell_type": "markdown",
   "metadata": {},
   "source": [
    "#### Teste de load and save na CompoundNN"
   ]
  },
  {
   "cell_type": "code",
   "execution_count": 13,
   "metadata": {},
   "outputs": [],
   "source": [
    "mlp1 = MLP(6,5)\n",
    "relu1 = ReLU()\n",
    "mlp2 = MLP(5,4)\n",
    "relu2 = ReLU()\n",
    "nn1 = CompoundNN([mlp1, relu1, mlp2, relu2])\n",
    "\n",
    "mlp1 = MLP(6,5)\n",
    "relu1 = ReLU()\n",
    "mlp2 = MLP(5,4)\n",
    "relu2 = ReLU()\n",
    "nn2 = CompoundNN([mlp1, relu1, mlp2, relu2])"
   ]
  },
  {
   "cell_type": "code",
   "execution_count": 14,
   "metadata": {},
   "outputs": [
    {
     "name": "stdout",
     "output_type": "stream",
     "text": [
      "[[0.74640134 0.20526077 0.         0.        ]]\n",
      "[[0.         1.35919377 1.20006706 0.64376929]]\n"
     ]
    }
   ],
   "source": [
    "\n",
    "x = np.random.randn(1, 6)\n",
    "\n",
    "print(nn1(x))\n",
    "print(nn2(x))"
   ]
  },
  {
   "cell_type": "code",
   "execution_count": 15,
   "metadata": {},
   "outputs": [],
   "source": [
    "nn1.save('nn1')\n",
    "nn2.load('nn1')"
   ]
  },
  {
   "cell_type": "code",
   "execution_count": 16,
   "metadata": {},
   "outputs": [
    {
     "name": "stdout",
     "output_type": "stream",
     "text": [
      "[[0.74640134 0.20526077 0.         0.        ]]\n",
      "[[0.74640134 0.20526077 0.         0.        ]]\n"
     ]
    }
   ],
   "source": [
    "print(nn1(x))\n",
    "print(nn2(x))"
   ]
  }
 ],
 "metadata": {
  "language_info": {
   "name": "python"
  }
 },
 "nbformat": 4,
 "nbformat_minor": 2
}
