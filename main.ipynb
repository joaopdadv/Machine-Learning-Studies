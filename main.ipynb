{
 "cells": [
  {
   "cell_type": "code",
   "execution_count": 1,
   "metadata": {},
   "outputs": [],
   "source": [
    "import numpy as np\n",
    "\n",
    "import sys\n",
    "import os\n",
    "\n",
    "module_path = os.path.join(os.getcwd(), 'modules')\n",
    "sys.path.append(module_path)\n",
    "from mlp import MLP, CompoundNN\n",
    "from activation_functions import ReLU"
   ]
  },
  {
   "cell_type": "code",
   "execution_count": 2,
   "metadata": {},
   "outputs": [],
   "source": [
    "mlp1 = MLP(6,5)\n",
    "relu1 = ReLU()\n",
    "mlp2 = MLP(5,4)\n",
    "relu2 = ReLU()"
   ]
  },
  {
   "cell_type": "code",
   "execution_count": 3,
   "metadata": {},
   "outputs": [],
   "source": [
    "nn = CompoundNN([mlp1, relu1, mlp2, relu2])"
   ]
  },
  {
   "cell_type": "code",
   "execution_count": 4,
   "metadata": {},
   "outputs": [],
   "source": [
    "x = np.random.randn(1, 6) # x são os valores de entrada"
   ]
  },
  {
   "cell_type": "code",
   "execution_count": 5,
   "metadata": {},
   "outputs": [
    {
     "name": "stdout",
     "output_type": "stream",
     "text": [
      "[[0.24602493 0.03086799 0.         0.81758164]]\n"
     ]
    }
   ],
   "source": [
    "print(relu2(mlp2(relu1(mlp1(x)))))"
   ]
  },
  {
   "cell_type": "code",
   "execution_count": 6,
   "metadata": {},
   "outputs": [
    {
     "name": "stdout",
     "output_type": "stream",
     "text": [
      "[[0.24602493 0.03086799 0.         0.81758164]]\n"
     ]
    }
   ],
   "source": [
    "print(nn(x))"
   ]
  },
  {
   "cell_type": "markdown",
   "metadata": {},
   "source": [
    "#### Teste de load and save na MLP"
   ]
  },
  {
   "cell_type": "code",
   "execution_count": 7,
   "metadata": {},
   "outputs": [],
   "source": [
    "mlp1 = MLP(6,5)\n",
    "mlp2 = MLP(6,5)\n",
    "x = np.random.randn(1, 6)"
   ]
  },
  {
   "cell_type": "code",
   "execution_count": 8,
   "metadata": {},
   "outputs": [
    {
     "name": "stdout",
     "output_type": "stream",
     "text": [
      "[[-3.45878874  3.30817126  5.38585563  6.16854073  0.81544675]]\n",
      "[[  2.38922278  -5.34402406  -1.18189826 -10.67737612   1.18880292]]\n"
     ]
    }
   ],
   "source": [
    "print(mlp1(x))\n",
    "print(mlp2(x))"
   ]
  },
  {
   "cell_type": "code",
   "execution_count": 9,
   "metadata": {},
   "outputs": [],
   "source": [
    "mlp1.save('mlp_test')\n",
    "mlp2.load('trainings/mlp_test')"
   ]
  },
  {
   "cell_type": "code",
   "execution_count": 10,
   "metadata": {},
   "outputs": [
    {
     "name": "stdout",
     "output_type": "stream",
     "text": [
      "[[-3.45878874  3.30817126  5.38585563  6.16854073  0.81544675]]\n",
      "[[-3.45878874  3.30817126  5.38585563  6.16854073  0.81544675]]\n"
     ]
    }
   ],
   "source": [
    "print(mlp1(x))\n",
    "print(mlp2(x))"
   ]
  },
  {
   "cell_type": "markdown",
   "metadata": {},
   "source": [
    "#### Teste de load and save na CompoundNN"
   ]
  },
  {
   "cell_type": "code",
   "execution_count": 11,
   "metadata": {},
   "outputs": [],
   "source": [
    "mlp1 = MLP(6,5)\n",
    "relu1 = ReLU()\n",
    "mlp2 = MLP(5,4)\n",
    "relu2 = ReLU()\n",
    "nn1 = CompoundNN([mlp1, relu1, mlp2, relu2])\n",
    "\n",
    "mlp1 = MLP(6,5)\n",
    "relu1 = ReLU()\n",
    "mlp2 = MLP(5,4)\n",
    "relu2 = ReLU()\n",
    "nn2 = CompoundNN([mlp1, relu1, mlp2, relu2])"
   ]
  },
  {
   "cell_type": "code",
   "execution_count": 12,
   "metadata": {},
   "outputs": [
    {
     "name": "stdout",
     "output_type": "stream",
     "text": [
      "[[0.         1.0108033  1.23915377 0.        ]]\n",
      "[[0.         0.         0.63024569 3.1487463 ]]\n"
     ]
    }
   ],
   "source": [
    "\n",
    "x = np.random.randn(1, 6)\n",
    "\n",
    "print(nn1(x))\n",
    "print(nn2(x))"
   ]
  },
  {
   "cell_type": "code",
   "execution_count": 13,
   "metadata": {},
   "outputs": [],
   "source": [
    "nn1.save('nn1')\n",
    "nn2.load('trainings/nn1')"
   ]
  },
  {
   "cell_type": "code",
   "execution_count": 14,
   "metadata": {},
   "outputs": [
    {
     "name": "stdout",
     "output_type": "stream",
     "text": [
      "[[0.         1.0108033  1.23915377 0.        ]]\n",
      "[[0.         1.0108033  1.23915377 0.        ]]\n"
     ]
    }
   ],
   "source": [
    "print(nn1(x))\n",
    "print(nn2(x))"
   ]
  },
  {
   "cell_type": "code",
   "execution_count": 15,
   "metadata": {},
   "outputs": [],
   "source": [
    "# mlp1.backward()"
   ]
  },
  {
   "cell_type": "code",
   "execution_count": 16,
   "metadata": {},
   "outputs": [
    {
     "data": {
      "text/plain": [
       "array([[-0.57420437, -0.00704587,  0.46274779,  1.70765271, -1.46603119,\n",
       "        -2.3276824 ]])"
      ]
     },
     "execution_count": 16,
     "metadata": {},
     "output_type": "execute_result"
    }
   ],
   "source": [
    "gradout = np.random.randn(1, 4)\n",
    "nn1.backward(gradout)"
   ]
  }
 ],
 "metadata": {
  "kernelspec": {
   "display_name": ".venv",
   "language": "python",
   "name": "python3"
  },
  "language_info": {
   "codemirror_mode": {
    "name": "ipython",
    "version": 3
   },
   "file_extension": ".py",
   "mimetype": "text/x-python",
   "name": "python",
   "nbconvert_exporter": "python",
   "pygments_lexer": "ipython3",
   "version": "3.12.3"
  }
 },
 "nbformat": 4,
 "nbformat_minor": 2
}
