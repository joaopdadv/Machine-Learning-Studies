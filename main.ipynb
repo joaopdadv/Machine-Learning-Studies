{
 "cells": [
  {
   "cell_type": "code",
   "execution_count": 12,
   "metadata": {},
   "outputs": [],
   "source": [
    "import numpy as np\n",
    "\n",
    "import sys\n",
    "import os\n",
    "\n",
    "module_path = os.path.join(os.getcwd(), 'modules')\n",
    "sys.path.append(module_path)\n",
    "from mlp import MLP, CompoundNN\n",
    "from activation_functions import ReLU"
   ]
  },
  {
   "cell_type": "code",
   "execution_count": 13,
   "metadata": {},
   "outputs": [],
   "source": [
    "mlp1 = MLP(6,5)\n",
    "relu1 = ReLU()\n",
    "mlp2 = MLP(5,4)\n",
    "relu2 = ReLU()"
   ]
  },
  {
   "cell_type": "code",
   "execution_count": 14,
   "metadata": {},
   "outputs": [],
   "source": [
    "nn = CompoundNN([mlp1, relu1, mlp2, relu2])"
   ]
  },
  {
   "cell_type": "code",
   "execution_count": 15,
   "metadata": {},
   "outputs": [],
   "source": [
    "x = np.random.randn(1, 6) # x são os valores de entrada"
   ]
  },
  {
   "cell_type": "code",
   "execution_count": 16,
   "metadata": {},
   "outputs": [
    {
     "name": "stdout",
     "output_type": "stream",
     "text": [
      "[[ 0.          0.          3.76710408 12.7569353 ]]\n"
     ]
    }
   ],
   "source": [
    "print(relu2(mlp2(relu1(mlp1(x)))))"
   ]
  },
  {
   "cell_type": "code",
   "execution_count": 17,
   "metadata": {},
   "outputs": [
    {
     "name": "stdout",
     "output_type": "stream",
     "text": [
      "[[ 0.          0.          3.76710408 12.7569353 ]]\n"
     ]
    }
   ],
   "source": [
    "print(nn(x))"
   ]
  },
  {
   "cell_type": "markdown",
   "metadata": {},
   "source": [
    "#### Teste de load and save na MLP"
   ]
  },
  {
   "cell_type": "code",
   "execution_count": 18,
   "metadata": {},
   "outputs": [],
   "source": [
    "mlp1 = MLP(6,5)\n",
    "mlp2 = MLP(6,5)\n",
    "x = np.random.randn(1, 6)"
   ]
  },
  {
   "cell_type": "code",
   "execution_count": 19,
   "metadata": {},
   "outputs": [
    {
     "name": "stdout",
     "output_type": "stream",
     "text": [
      "[[2.26701402 2.75388002 0.87719482 2.08977105 1.94537355]]\n",
      "[[-1.59118791 -0.60287212 -4.42268401 -3.55621343 -4.94581762]]\n"
     ]
    }
   ],
   "source": [
    "print(mlp1(x))\n",
    "print(mlp2(x))"
   ]
  },
  {
   "cell_type": "code",
   "execution_count": 20,
   "metadata": {},
   "outputs": [],
   "source": [
    "mlp1.save('mlp_test')\n",
    "mlp2.load('trainings/mlp_test')"
   ]
  },
  {
   "cell_type": "code",
   "execution_count": 21,
   "metadata": {},
   "outputs": [
    {
     "name": "stdout",
     "output_type": "stream",
     "text": [
      "[[2.26701402 2.75388002 0.87719482 2.08977105 1.94537355]]\n",
      "[[2.26701402 2.75388002 0.87719482 2.08977105 1.94537355]]\n"
     ]
    }
   ],
   "source": [
    "print(mlp1(x))\n",
    "print(mlp2(x))"
   ]
  },
  {
   "cell_type": "markdown",
   "metadata": {},
   "source": [
    "#### Teste de load and save na CompoundNN"
   ]
  },
  {
   "cell_type": "code",
   "execution_count": 22,
   "metadata": {},
   "outputs": [],
   "source": [
    "mlp1 = MLP(6,5)\n",
    "relu1 = ReLU()\n",
    "mlp2 = MLP(5,4)\n",
    "relu2 = ReLU()\n",
    "nn1 = CompoundNN([mlp1, relu1, mlp2, relu2])\n",
    "\n",
    "mlp1 = MLP(6,5)\n",
    "relu1 = ReLU()\n",
    "mlp2 = MLP(5,4)\n",
    "relu2 = ReLU()\n",
    "nn2 = CompoundNN([mlp1, relu1, mlp2, relu2])"
   ]
  },
  {
   "cell_type": "code",
   "execution_count": 23,
   "metadata": {},
   "outputs": [
    {
     "name": "stdout",
     "output_type": "stream",
     "text": [
      "[[0.         0.47355059 0.         9.99903999]]\n",
      "[[0.         0.         0.54397692 6.29269025]]\n"
     ]
    }
   ],
   "source": [
    "\n",
    "x = np.random.randn(1, 6)\n",
    "\n",
    "print(nn1(x))\n",
    "print(nn2(x))"
   ]
  },
  {
   "cell_type": "code",
   "execution_count": 25,
   "metadata": {},
   "outputs": [],
   "source": [
    "nn1.save('nn1')\n",
    "nn2.load('trainings/nn1')"
   ]
  },
  {
   "cell_type": "code",
   "execution_count": 26,
   "metadata": {},
   "outputs": [
    {
     "name": "stdout",
     "output_type": "stream",
     "text": [
      "[[0.         0.47355059 0.         9.99903999]]\n",
      "[[0.         0.47355059 0.         9.99903999]]\n"
     ]
    }
   ],
   "source": [
    "print(nn1(x))\n",
    "print(nn2(x))"
   ]
  },
  {
   "cell_type": "code",
   "execution_count": 27,
   "metadata": {},
   "outputs": [],
   "source": [
    "mlp1.backward()"
   ]
  }
 ],
 "metadata": {
  "kernelspec": {
   "display_name": ".venv",
   "language": "python",
   "name": "python3"
  },
  "language_info": {
   "codemirror_mode": {
    "name": "ipython",
    "version": 3
   },
   "file_extension": ".py",
   "mimetype": "text/x-python",
   "name": "python",
   "nbconvert_exporter": "python",
   "pygments_lexer": "ipython3",
   "version": "3.12.3"
  }
 },
 "nbformat": 4,
 "nbformat_minor": 2
}
